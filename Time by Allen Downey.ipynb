{
 "cells": [
  {
   "cell_type": "code",
   "execution_count": 1,
   "id": "south-guyana",
   "metadata": {},
   "outputs": [],
   "source": [
    "from __future__ import division, print_function\n",
    "# the instructions changes the classic operator '/', part of Python 2, for a \n",
    "# new division operator integrated at the Python 3 version.\n",
    "# The diference beetwen thoses division operators is that the 'classic version'\n",
    "# works with the floor division - aproximating to the higher result - instead the\n",
    "# 'future division' offers the true division returning the most aproximated real number"
   ]
  },
  {
   "cell_type": "code",
   "execution_count": 2,
   "id": "answering-recording",
   "metadata": {},
   "outputs": [
    {
     "ename": "SyntaxError",
     "evalue": "unexpected EOF while parsing (<ipython-input-2-9f1e21e328c3>, line 1)",
     "output_type": "error",
     "traceback": [
      "\u001b[0;36m  File \u001b[0;32m\"<ipython-input-2-9f1e21e328c3>\"\u001b[0;36m, line \u001b[0;32m1\u001b[0m\n\u001b[0;31m    class Time:\u001b[0m\n\u001b[0m               ^\u001b[0m\n\u001b[0;31mSyntaxError\u001b[0m\u001b[0;31m:\u001b[0m unexpected EOF while parsing\n"
     ]
    }
   ],
   "source": [
    "class Time:\n",
    "    # construction of Time object's class:\n",
    "    def print_time(t)\n",
    "        \n",
    "    # prints a string representatio of the time\n",
    "    # t: Time object\n",
    "        print('%.2d:%.2d:%.2d'%(t.hour, t.minute, t.second))  \n",
    "    "
   ]
  },
  {
   "cell_type": "code",
   "execution_count": null,
   "id": "pleasant-frame",
   "metadata": {},
   "outputs": [],
   "source": []
  }
 ],
 "metadata": {
  "kernelspec": {
   "display_name": "Python 3",
   "language": "python",
   "name": "python3"
  },
  "language_info": {
   "codemirror_mode": {
    "name": "ipython",
    "version": 3
   },
   "file_extension": ".py",
   "mimetype": "text/x-python",
   "name": "python",
   "nbconvert_exporter": "python",
   "pygments_lexer": "ipython3",
   "version": "3.8.5"
  }
 },
 "nbformat": 4,
 "nbformat_minor": 5
}
